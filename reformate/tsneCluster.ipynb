{
 "cells": [
  {
   "cell_type": "code",
   "execution_count": 38,
   "id": "initial_id",
   "metadata": {
    "collapsed": true,
    "ExecuteTime": {
     "end_time": "2024-10-09T12:32:05.751781Z",
     "start_time": "2024-10-09T12:32:05.586862Z"
    }
   },
   "outputs": [],
   "source": [
    "import pandas as pd\n",
    "import numpy as np\n",
    "import os\n",
    "import matplotlib.pyplot as plt\n",
    "from sklearn.manifold import TSNE\n",
    "from sklearn.preprocessing import StandardScaler\n",
    "from scipy.cluster.hierarchy import linkage, fcluster\n"
   ]
  },
  {
   "cell_type": "code",
   "execution_count": 39,
   "outputs": [],
   "source": [
    "# change the path \n",
    "path = \"../reformate\"\n",
    "os.chdir(path)\n"
   ],
   "metadata": {
    "collapsed": false,
    "ExecuteTime": {
     "end_time": "2024-10-09T12:32:05.780411Z",
     "start_time": "2024-10-09T12:32:05.595149Z"
    }
   },
   "id": "90246bcba6d1c0b5"
  },
  {
   "cell_type": "code",
   "execution_count": 40,
   "outputs": [],
   "source": [
    "USE_SIMPLE_DATA = False"
   ],
   "metadata": {
    "collapsed": false,
    "ExecuteTime": {
     "end_time": "2024-10-09T12:32:05.846100Z",
     "start_time": "2024-10-09T12:32:05.604011Z"
    }
   },
   "id": "f49aa014efef8a57"
  },
  {
   "cell_type": "code",
   "execution_count": 41,
   "outputs": [],
   "source": [
    "transfermap = {\n",
    "    '頂標': 88,\n",
    "    '前標': 75,\n",
    "    '均標': 50,\n",
    "    '後標': 25,\n",
    "    '底標': 12,\n",
    "    'nan': 0\n",
    "\n",
    "}\n",
    "codeList = ['國文檢定_code','英文檢定_code','數學檢定_code',\n",
    "            '社會檢定_code','自然檢定_code']\n",
    "codeList2 = ['國文採計','英文採計','數學採計','社會採計','自然採計']\n",
    "codeList3 = ['國文倍率','英文倍率','數學倍率','社會倍率','自然倍率']\n",
    "codeList4 = ['unitier','預定甄試人數','甄試費用','口試佔比','書審佔比']"
   ],
   "metadata": {
    "collapsed": false,
    "ExecuteTime": {
     "end_time": "2024-10-09T12:32:05.849834Z",
     "start_time": "2024-10-09T12:32:05.608944Z"
    }
   },
   "id": "7b11736532808e"
  },
  {
   "cell_type": "code",
   "execution_count": 42,
   "outputs": [],
   "source": [
    "#import data\n",
    "simpdf = pd.read_csv('./rawData/109_selfapplication_university_cleaned.csv')\n",
    "rawdf = pd.read_stata('./rawData/109 Selfapplication_V6.dta')"
   ],
   "metadata": {
    "collapsed": false,
    "ExecuteTime": {
     "end_time": "2024-10-09T12:32:05.976551Z",
     "start_time": "2024-10-09T12:32:05.612386Z"
    }
   },
   "id": "e3782215f63e3406"
  },
  {
   "cell_type": "code",
   "execution_count": 43,
   "outputs": [],
   "source": [
    "#let the order become same\n",
    "rawdf['學校名稱_eng_encoded'] = rawdf['學校名稱_eng_encoded'].astype('str')\n",
    "rawdf.sort_values(by=['學校名稱_eng_encoded','school'], inplace=True)"
   ],
   "metadata": {
    "collapsed": false,
    "ExecuteTime": {
     "end_time": "2024-10-09T12:32:05.991062Z",
     "start_time": "2024-10-09T12:32:05.875579Z"
    }
   },
   "id": "2a1ed04b05546131"
  },
  {
   "cell_type": "code",
   "execution_count": 44,
   "outputs": [],
   "source": [
    "# clean simp data\n",
    "label = simpdf.columns\n",
    "simpdf[\"id\"] = np.arange(0, len(simpdf))\n",
    "simp_label_df = simpdf[['id', 'university', 'school', 'school_index', 'unitier']]\n",
    "simpdf = simpdf.drop(['university', 'school', 'id', 'school_index', 'unitier'], axis=1)\n"
   ],
   "metadata": {
    "collapsed": false,
    "ExecuteTime": {
     "end_time": "2024-10-09T12:32:05.991405Z",
     "start_time": "2024-10-09T12:32:05.896931Z"
    }
   },
   "id": "f9e8c1625d17544e"
  },
  {
   "cell_type": "code",
   "execution_count": 45,
   "outputs": [],
   "source": [
    "#clean raw data\n",
    "rawdf = rawdf[['學校名稱_code', '學校名稱_encoded', '學系名稱_trim', '學系代碼', '國文檢定_code', '英文檢定_code',\n",
    "         '數學檢定_code',\n",
    "         '社會檢定_code', '自然檢定_code', '國文倍率', '英文倍率', '數學倍率', '社會倍率', '自然倍率', '國文採計',\n",
    "         '英文採計',\n",
    "         '數學採計', '社會採計', '自然採計', '自設科目組合_code', '自設科目組合倍率', '預定甄試人數',\n",
    "         '甄試費用', '口試佔比', '書審佔比']]\n",
    "rawdf['unitier'] = simp_label_df['unitier']\n",
    "\n",
    "\n",
    "for idx, row in rawdf.iterrows():\n",
    "    for _ in codeList2:\n",
    "        rawdf.loc[idx,_] = float(rawdf.loc[idx,_] * rawdf.loc[idx,'自設科目組合倍率'])\n",
    "    for _ in codeList:\n",
    "        rawdf[_] = rawdf[_].astype('str')\n",
    "        rawdf.loc[idx,_] = transfermap[rawdf.loc[idx,_]]\n",
    "\n",
    "for _ in codeList:\n",
    "    rawdf[_] = rawdf[_].astype('int')\n",
    "\n",
    "for col in codeList3:\n",
    "    rawdf[col] = rawdf[col].apply(lambda x: -np.log10(x) if x != 0 else -np.log(30))\n",
    "rawdf['unitier'] = rawdf['unitier'].apply(lambda x: 4-x)\n",
    "\n",
    "raw_label_df = rawdf[['學校名稱_code', '學校名稱_encoded', '學系名稱_trim', '學系代碼','國文採計',\n",
    "              '英文採計',\n",
    "              '數學採計', '社會採計', '自然採計', '自設科目組合_code', '自設科目組合倍率', 'unitier', '預定甄試人數',\n",
    "              '甄試費用', '口試佔比', '書審佔比']]\n",
    "rawdf = rawdf.drop(columns = ['學校名稱_code', '學校名稱_encoded', '學系名稱_trim', '學系代碼','國文採計',\n",
    "                           '英文採計',\n",
    "                           '數學採計', '社會採計', '自然採計', '自設科目組合_code', '自設科目組合倍率', 'unitier', '預定甄試人數',\n",
    "                           '甄試費用', '口試佔比', '書審佔比'])"
   ],
   "metadata": {
    "collapsed": false,
    "ExecuteTime": {
     "end_time": "2024-10-09T12:32:20.032916Z",
     "start_time": "2024-10-09T12:32:05.917056Z"
    }
   },
   "id": "e754b9e5e01d43e6"
  },
  {
   "cell_type": "code",
   "execution_count": 46,
   "outputs": [],
   "source": [
    "# choose which data to use \n",
    "if USE_SIMPLE_DATA:\n",
    "    data = simpdf\n",
    "    label_df = simp_label_df\n",
    "else:\n",
    "    data = rawdf\n",
    "    label_df = raw_label_df"
   ],
   "metadata": {
    "collapsed": false,
    "ExecuteTime": {
     "end_time": "2024-10-09T12:32:20.043724Z",
     "start_time": "2024-10-09T12:32:20.041375Z"
    }
   },
   "id": "3f093d183d48c847"
  },
  {
   "cell_type": "code",
   "execution_count": 47,
   "outputs": [],
   "source": [
    "# t-SNE Process\n",
    "\n",
    "# Standardize the data\n",
    "scaler = StandardScaler()\n",
    "stddata = scaler.fit_transform(data)\n",
    "\n",
    "# t-SNE\n",
    "if USE_SIMPLE_DATA:\n",
    "    perplexity = 30\n",
    "else:\n",
    "    prelexity = 35\n",
    "    \n",
    "tsne = TSNE(init = 'pca',n_components=2, random_state=0, perplexity=35, n_iter=1000)\n",
    "tsne_data = tsne.fit_transform(stddata)\n"
   ],
   "metadata": {
    "collapsed": false,
    "ExecuteTime": {
     "end_time": "2024-10-09T12:32:28.432036Z",
     "start_time": "2024-10-09T12:32:20.059895Z"
    }
   },
   "id": "fde32e04aaa4a2e7"
  },
  {
   "cell_type": "code",
   "execution_count": 48,
   "outputs": [],
   "source": [
    "#linkage cluster\n",
    "linkage_matrix = linkage(tsne_data, method='average', metric='euclidean')\n",
    "cluster = fcluster(linkage_matrix,t = 7 , criterion='maxclust')\n",
    "label_df['cluster'] = cluster\n"
   ],
   "metadata": {
    "collapsed": false,
    "ExecuteTime": {
     "end_time": "2024-10-09T12:32:28.547769Z",
     "start_time": "2024-10-09T12:32:28.424530Z"
    }
   },
   "id": "f0441036674800b"
  },
  {
   "cell_type": "code",
   "execution_count": 49,
   "outputs": [
    {
     "data": {
      "text/plain": "<Figure size 1000x700 with 1 Axes>",
      "image/png": "[encoded data removed]"
     },
     "metadata": {},
     "output_type": "display_data"
    }
   ],
   "source": [
    "#plot results\n",
    "plt.figure(figsize=(10, 7))\n",
    "plt.scatter(tsne_data[:,0], tsne_data[:,1], c=cluster,s = 1)\n",
    "plt.savefig(f\"./pics/{'simplify_' if USE_SIMPLE_DATA else 'raw_'}tsneCluster.png\")"
   ],
   "metadata": {
    "collapsed": false,
    "ExecuteTime": {
     "end_time": "2024-10-09T12:32:29.036783Z",
     "start_time": "2024-10-09T12:32:28.581429Z"
    }
   },
   "id": "58e05f1f07883601"
  },
  {
   "cell_type": "code",
   "execution_count": 50,
   "outputs": [],
   "source": [
    "# save results\n",
    "if USE_SIMPLE_DATA:\n",
    "    data = rawdf\n",
    "    label_df = raw_label_df\n",
    "    label_df['cluster'] = cluster\n",
    "data = pd.concat([data, label_df], axis=1)\n",
    "data.to_csv(f\"./processedData/{'simplify_' if USE_SIMPLE_DATA else 'raw_'}tsneCluster.csv\")"
   ],
   "metadata": {
    "collapsed": false,
    "ExecuteTime": {
     "end_time": "2024-10-09T12:32:29.167191Z",
     "start_time": "2024-10-09T12:32:29.037856Z"
    }
   },
   "id": "cd93cdd98898721f"
  },
  {
   "cell_type": "markdown",
   "source": [
    "# Analysis the results of t-SNE \n",
    "\n",
    "1. show the different \n",
    "2. do some test\n",
    "3. output the results by latex table"
   ],
   "metadata": {
    "collapsed": false
   },
   "id": "a8b293b8c7cdcdaf"
  },
  {
   "cell_type": "code",
   "execution_count": 51,
   "outputs": [
    {
     "name": "stdout",
     "output_type": "stream",
     "text": [
      "Use simple data =  False\n"
     ]
    }
   ],
   "source": [
    "# import data\n",
    "print(\"Use simple data = \",USE_SIMPLE_DATA)\n",
    "data = pd.read_csv(f\"./processedData/{'simplify_' if USE_SIMPLE_DATA else 'raw_'}tsneCluster.csv\")"
   ],
   "metadata": {
    "collapsed": false,
    "ExecuteTime": {
     "end_time": "2024-10-09T12:32:29.168154Z",
     "start_time": "2024-10-09T12:32:29.095699Z"
    }
   },
   "id": "d3fb96a78c5fabfb"
  },
  {
   "cell_type": "code",
   "execution_count": 52,
   "outputs": [],
   "source": [
    "# the statistics of cluster attrs\n",
    "\n",
    "try:\n",
    "    dataNoName = data.drop(columns = ['學校名稱_encoded','學系名稱_trim','學系代碼','Unnamed: 0'])\n",
    "except:\n",
    "    dataNoName = data.drop(columns = ['學校名稱_encoded','學系名稱_trim','學系代碼'])\n",
    "attrsByCluster = dataNoName.groupby('cluster').agg(['mean','std','count'])\n"
   ],
   "metadata": {
    "collapsed": false,
    "ExecuteTime": {
     "end_time": "2024-10-09T12:32:29.168259Z",
     "start_time": "2024-10-09T12:32:29.125381Z"
    }
   },
   "id": "229eda5a3dd5c79c"
  },
  {
   "cell_type": "code",
   "execution_count": 53,
   "outputs": [
    {
     "name": "stdout",
     "output_type": "stream",
     "text": [
      "國文檢定_code : Kruskal statistic is 131.158, p-vlaue is 0.000.\n",
      " the different of each group is  signifact\n",
      "英文檢定_code : Kruskal statistic is 441.445, p-vlaue is 0.000.\n",
      " the different of each group is  signifact\n",
      "數學檢定_code : Kruskal statistic is 651.783, p-vlaue is 0.000.\n",
      " the different of each group is  signifact\n",
      "社會檢定_code : Kruskal statistic is 880.065, p-vlaue is 0.000.\n",
      " the different of each group is  signifact\n",
      "自然檢定_code : Kruskal statistic is 1462.311, p-vlaue is 0.000.\n",
      " the different of each group is  signifact\n",
      "國文倍率 : Kruskal statistic is 882.965, p-vlaue is 0.000.\n",
      " the different of each group is  signifact\n",
      "英文倍率 : Kruskal statistic is 1068.475, p-vlaue is 0.000.\n",
      " the different of each group is  signifact\n",
      "數學倍率 : Kruskal statistic is 1059.218, p-vlaue is 0.000.\n",
      " the different of each group is  signifact\n",
      "社會倍率 : Kruskal statistic is 2094.306, p-vlaue is 0.000.\n",
      " the different of each group is  signifact\n",
      "自然倍率 : Kruskal statistic is 2046.691, p-vlaue is 0.000.\n",
      " the different of each group is  signifact\n",
      "學校名稱_code : Kruskal statistic is 235.162, p-vlaue is 0.000.\n",
      " the different of each group is  signifact\n",
      "國文採計 : Kruskal statistic is 379.077, p-vlaue is 0.000.\n",
      " the different of each group is  signifact\n",
      "英文採計 : Kruskal statistic is 384.575, p-vlaue is 0.000.\n",
      " the different of each group is  signifact\n",
      "數學採計 : Kruskal statistic is 324.318, p-vlaue is 0.000.\n",
      " the different of each group is  signifact\n",
      "社會採計 : Kruskal statistic is 169.816, p-vlaue is 0.000.\n",
      " the different of each group is  signifact\n",
      "自然採計 : Kruskal statistic is 271.366, p-vlaue is 0.000.\n",
      " the different of each group is  signifact\n",
      "自設科目組合_code : Kruskal statistic is 497.820, p-vlaue is 0.000.\n",
      " the different of each group is  signifact\n",
      "自設科目組合倍率 : Kruskal statistic is 443.918, p-vlaue is 0.000.\n",
      " the different of each group is  signifact\n",
      "unitier : Kruskal statistic is 16.299, p-vlaue is 0.012.\n",
      " the different of each group is  signifact\n",
      "預定甄試人數 : Kruskal statistic is 16.993, p-vlaue is 0.009.\n",
      " the different of each group is  signifact\n",
      "甄試費用 : Kruskal statistic is 207.401, p-vlaue is 0.000.\n",
      " the different of each group is  signifact\n",
      "口試佔比 : Kruskal statistic is 231.322, p-vlaue is 0.000.\n",
      " the different of each group is  signifact\n",
      "書審佔比 : Kruskal statistic is 28.586, p-vlaue is 0.000.\n",
      " the different of each group is  signifact\n",
      "cluster : F-statistic is inf, p-vlaue is 0.000. \n",
      " the different of each group is signifact\n"
     ]
    },
    {
     "name": "stderr",
     "output_type": "stream",
     "text": [
      "/usr/local/lib/python3.9/site-packages/scipy/stats/_axis_nan_policy.py:531: UserWarning: scipy.stats.shapiro: Input data has range zero. The results may not be accurate.\n",
      "  res = hypotest_fun_out(*samples, **kwds)\n",
      "/usr/local/lib/python3.9/site-packages/scipy/stats/_axis_nan_policy.py:531: ConstantInputWarning: Each of the input arrays is constant; the F statistic is not defined or infinite\n",
      "  res = hypotest_fun_out(*samples, **kwds)\n"
     ]
    }
   ],
   "source": [
    "# test the mean of different cluster is equal or not, first test nomalty\n",
    "from scipy.stats import f_oneway\n",
    "from scipy.stats import shapiro\n",
    "from scipy.stats import kruskal\n",
    "\n",
    "for col in dataNoName.columns:\n",
    "    tval = True\n",
    "    for subcol in [dataNoName[dataNoName['cluster'] == cls][col] for cls in range(1,8)]:\n",
    "        if shapiro(subcol)[1] < 0.05:\n",
    "            tval = False\n",
    "            break\n",
    "    if tval > 0.05:\n",
    "        #print(f\"{col} is normal\")\n",
    "        print(f\"{col} : F-statistic is {f_oneway(*[dataNoName[col][dataNoName['cluster'] == i] for i in range(1,8)])[0] :.3f}, p-vlaue is {f_oneway(*[dataNoName[col][dataNoName['cluster'] == i] for i in range(1,8)])[1] :.3f}. \\n the different of each group is {'signifact' if kruskal(*[dataNoName[col][dataNoName['cluster'] == i] for i in range(1,8)])[1] < 0.05 else 'not signifact'}\")\n",
    "    else:\n",
    "        #print(f\"{col} is not normal\")\n",
    "        print(f\"{col} : Kruskal statistic is {kruskal(*[dataNoName[col][dataNoName['cluster'] == i] for i in range(1,8)])[0] :.3f}, p-vlaue is {kruskal(*[dataNoName[col][dataNoName['cluster'] == i] for i in range(1,8)])[1] :.3f}.\\n the different of each group is  {'signifact' if kruskal(*[dataNoName[col][dataNoName['cluster'] == i] for i in range(1,8)])[1] < 0.05 else 'not signifact'}\")\n"
   ],
   "metadata": {
    "collapsed": false,
    "ExecuteTime": {
     "end_time": "2024-10-09T12:32:29.681745Z",
     "start_time": "2024-10-09T12:32:29.161013Z"
    }
   },
   "id": "8a38fadb986d32fe"
  },
  {
   "cell_type": "code",
   "execution_count": 54,
   "outputs": [],
   "source": [
    "# output the results by latex table\n",
    "attrsByCluster.to_latex(f\"./results/{'simplify_' if USE_SIMPLE_DATA else 'raw_'}tsneCluster.tex\")"
   ],
   "metadata": {
    "collapsed": false,
    "ExecuteTime": {
     "end_time": "2024-10-09T12:32:29.718643Z",
     "start_time": "2024-10-09T12:32:29.683372Z"
    }
   },
   "id": "8ffdd4652a496dd8"
  },
  {
   "cell_type": "code",
   "execution_count": 55,
   "outputs": [],
   "source": [
    "# output results csv by .png\n",
    "\n"
   ],
   "metadata": {
    "collapsed": false,
    "ExecuteTime": {
     "end_time": "2024-10-09T12:32:29.727659Z",
     "start_time": "2024-10-09T12:32:29.719809Z"
    }
   },
   "id": "6d9510ec8d11a6a6"
  },
  {
   "cell_type": "code",
   "execution_count": 55,
   "outputs": [],
   "source": [],
   "metadata": {
    "collapsed": false,
    "ExecuteTime": {
     "end_time": "2024-10-09T12:32:29.735470Z",
     "start_time": "2024-10-09T12:32:29.724067Z"
    }
   },
   "id": "c9f177a4ac268402"
  }
 ],
 "metadata": {
  "kernelspec": {
   "display_name": "Python 3",
   "language": "python",
   "name": "python3"
  },
  "language_info": {
   "codemirror_mode": {
    "name": "ipython",
    "version": 2
   },
   "file_extension": ".py",
   "mimetype": "text/x-python",
   "name": "python",
   "nbconvert_exporter": "python",
   "pygments_lexer": "ipython2",
   "version": "2.7.6"
  }
 },
 "nbformat": 4,
 "nbformat_minor": 5
}
